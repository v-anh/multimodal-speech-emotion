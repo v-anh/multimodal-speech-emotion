{
  "nbformat": 4,
  "nbformat_minor": 0,
  "metadata": {
    "colab": {
      "name": "yoon2018.ipynb",
      "provenance": [],
      "mount_file_id": "16VIIkoBeLpQSdtgzYw_4spbE5XAf19sV",
      "authorship_tag": "ABX9TyN5Y1fsUQaXqisXVeRL013K",
      "include_colab_link": true
    },
    "kernelspec": {
      "name": "python3",
      "display_name": "Python 3"
    },
    "language_info": {
      "name": "python"
    }
  },
  "cells": [
    {
      "cell_type": "markdown",
      "metadata": {
        "id": "view-in-github",
        "colab_type": "text"
      },
      "source": [
        "<a href=\"https://colab.research.google.com/github/v-anh/multimodal-speech-emotion/blob/master/yoon2018.ipynb\" target=\"_parent\"><img src=\"https://colab.research.google.com/assets/colab-badge.svg\" alt=\"Open In Colab\"/></a>"
      ]
    },
    {
      "cell_type": "code",
      "execution_count": 1,
      "metadata": {
        "id": "EaaogJ3rwlmF"
      },
      "outputs": [],
      "source": [
        "!tar -xf /content/drive/MyDrive/IEMOCAP_full_release_withoutVideos.tar.gz"
      ]
    }
  ]
}